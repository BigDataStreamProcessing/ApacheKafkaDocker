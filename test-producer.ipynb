{
 "cells": [
  {
   "cell_type": "code",
   "execution_count": null,
   "metadata": {},
   "outputs": [],
   "source": [
    "pip install --upgrade pip"
   ]
  },
  {
   "cell_type": "code",
   "execution_count": null,
   "metadata": {},
   "outputs": [],
   "source": [
    "pip install kafka-python"
   ]
  },
  {
   "cell_type": "code",
   "execution_count": null,
   "metadata": {},
   "outputs": [],
   "source": [
    "from kafka import KafkaProducer\n",
    "import json\n",
    "import time\n",
    "import random\n",
    "\n",
    "# Konfiguracja producenta\n",
    "producer = KafkaProducer(\n",
    "    bootstrap_servers='localhost:29092',  # Połączenie do brokera Kafka\n",
    "    value_serializer=lambda v: json.dumps(v).encode('utf-8')\n",
    ")\n",
    "\n",
    "topic = \"example-topic\"\n",
    "\n",
    "# Generowanie i wysyłanie danych\n",
    "for i in range(10):\n",
    "    data = {\n",
    "        \"id\": i,\n",
    "        \"value\": random.randint(1, 100),\n",
    "        \"timestamp\": time.time()\n",
    "    }\n",
    "    producer.send(topic, value=data)\n",
    "    print(f'Wysłano wiadomość: {data}')\n",
    "    time.sleep(1)  # Symulacja strumieniowego wysyłania danych\n",
    "\n",
    "producer.flush()\n",
    "print(\"Producent zakończył wysyłanie wiadomości.\")\n"
   ]
  },
  {
   "cell_type": "code",
   "execution_count": null,
   "metadata": {},
   "outputs": [],
   "source": []
  }
 ],
 "metadata": {
  "kernelspec": {
   "display_name": "Python 3",
   "language": "python",
   "name": "python3"
  },
  "language_info": {
   "codemirror_mode": {
    "name": "ipython",
    "version": 3
   },
   "file_extension": ".py",
   "mimetype": "text/x-python",
   "name": "python",
   "nbconvert_exporter": "python",
   "pygments_lexer": "ipython3",
   "version": "3.11.9"
  }
 },
 "nbformat": 4,
 "nbformat_minor": 2
}
